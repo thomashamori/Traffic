{
 "cells": [
  {
   "cell_type": "markdown",
   "id": "f44d36db",
   "metadata": {},
   "source": [
    "# Objective: Solve u_t + (u(1-u))_x = 0 for x,t \\in [0,1]x[0,tmax] using PINN. use initial condition u_0= 0.5 +0.3cos(2*pi*x) and BC's u(0,t) = u(1,t); u_x(0,t)=u_x(1,t)"
   ]
  },
  {
   "cell_type": "markdown",
   "id": "e2f96661",
   "metadata": {},
   "source": [
    "## We will enforce u_t + (u(1-u))_x = 0 at grid points (x_i,t_i)."
   ]
  },
  {
   "cell_type": "code",
   "execution_count": 75,
   "id": "ee662ec7",
   "metadata": {},
   "outputs": [],
   "source": [
    "import numpy as np\n",
    "import matplotlib.pyplot as plt\n",
    "import torch\n",
    "import torch.nn as nn\n",
    "import torch.optim as optim\n",
    "import scipy.io"
   ]
  },
  {
   "cell_type": "code",
   "execution_count": 76,
   "id": "ba75116b",
   "metadata": {},
   "outputs": [],
   "source": [
    "# Device configuration\n",
    "device = torch.device('cuda' if torch.cuda.is_available() else 'cpu')"
   ]
  },
  {
   "cell_type": "code",
   "execution_count": 77,
   "id": "9ffe5a63",
   "metadata": {},
   "outputs": [
    {
     "name": "stdout",
     "output_type": "stream",
     "text": [
      "Using 100 spacial grid points,  500 time steps\n"
     ]
    }
   ],
   "source": [
    "# Hyper-parameters \n",
    "input_size = 2 # (x,t)\n",
    "hidden_size = 20 #number of neurons in each hidden layer\n",
    "n_layers = 20  #number of hidden layers\n",
    "output_size = 1\n",
    "num_epochs = 2000\n",
    "learning_rate = 0.001\n",
    "tmax=0.5  #the maximum time forward which we predict , at the end we want tmax=5.\n",
    "dx = 0.01\n",
    "N = int(1/dx) # have N+1 space steps, 0,...,N\n",
    "dt = dx/10 # to satisfy CFL condition\n",
    "M = int(tmax/dt) # number of time steps\n",
    "print(f'Using {N} spacial grid points,  {M} time steps')"
   ]
  },
  {
   "cell_type": "code",
   "execution_count": 78,
   "id": "b01ad61b",
   "metadata": {},
   "outputs": [],
   "source": [
    "class PINN(nn.Module):\n",
    "    def __init__(self):\n",
    "        super(PINN, self).__init__()\n",
    "        \n",
    "        # Define the input layer with 2 inputs\n",
    "        self.input_layer = nn.Linear(input_size, hidden_size)\n",
    "        \n",
    "        # Define 10 hidden layers with tanh activation function\n",
    "        self.hidden_layers = nn.ModuleList([\n",
    "            nn.Sequential(nn.Linear(hidden_size, hidden_size), nn.Tanh())\n",
    "            for _ in range(n_layers)\n",
    "        ])\n",
    "        \n",
    "        # Define the output layer with a single neuron\n",
    "        self.output_layer = nn.Linear(hidden_size, output_size)\n",
    "\n",
    "    def forward(self, x):\n",
    "        # Forward pass through the network\n",
    "        x = self.input_layer(x)\n",
    "        for hidden_layer in self.hidden_layers:\n",
    "            x = hidden_layer(x)\n",
    "        output = self.output_layer(x)\n",
    "        return output"
   ]
  },
  {
   "cell_type": "code",
   "execution_count": 79,
   "id": "db5ba18a",
   "metadata": {},
   "outputs": [],
   "source": [
    "def pde_loss(u, x, t):\n",
    "    u = u.reshape(X.shape)\n",
    "    \n",
    "    # Calculate u_x using autodifferentiation\n",
    "    u_x = torch.autograd.grad(u, x, grad_outputs=torch.ones_like(u), create_graph=True)[0]\n",
    "    # Calculate u_t using autodifferentiation\n",
    "    u_t = torch.autograd.grad(u, t, grad_outputs=torch.ones_like(u), create_graph=True)[0]\n",
    "\n",
    "    #residual = u_t + 0.1*u_x #linear advection.\n",
    "    residual = u_t + (1 - 2 * u) * u_x #at row i, col j has u_t + (1 - 2 * u) * u_x evaluated at t_i, x_j so rows=t, cols =x\n",
    "\n",
    "    \n",
    "    return torch.mean(residual**2) \n",
    "\n",
    "def boundary_loss(u, x, t):\n",
    "    u = u.reshape(X.shape)\n",
    "    \n",
    "    # Calculate u_x using autodifferentiation\n",
    "    u_x = torch.autograd.grad(u, x, grad_outputs=torch.ones_like(u), create_graph=True)[0]\n",
    "\n",
    "    #measure discrepancy in boundary value\n",
    "    boundary_value_loss = torch.mean((u[:,0]-u[:,N])**2) #this number is large when boundary VALUES are different\n",
    "    \n",
    "    #measure discrepancy in boundary derivative value\n",
    "    boundary_x_loss = torch.mean((u_x[:,0]-u_x[:,N])**2) #this number is large when boundary DERIVATIVE VALUES are different\n",
    "    \n",
    "    #add\n",
    "    boundary_loss = boundary_value_loss +boundary_x_loss\n",
    "\n",
    "    return boundary_loss \n",
    "\n"
   ]
  },
  {
   "cell_type": "code",
   "execution_count": 80,
   "id": "e0b54c0a",
   "metadata": {},
   "outputs": [
    {
     "name": "stdout",
     "output_type": "stream",
     "text": [
      "Epoch [0/3000], Total Loss: 0.29906488095859346, Initial Loss: 0.29906488095738615, Boundary Loss: 3.664757733390367e-11, PDE Loss: 8.408272689219842e-11\n",
      "Epoch [100/3000], Total Loss: 0.045436722555137185, Initial Loss: 0.045436722555137185, Boundary Loss: 4.07141960022011e-25, PDE Loss: 2.350015157539197e-25\n",
      "Epoch [200/3000], Total Loss: 0.04543672189031903, Initial Loss: 0.04543672189031903, Boundary Loss: 4.031793637836661e-25, PDE Loss: 2.328056967723337e-25\n",
      "Epoch [300/3000], Total Loss: 0.04543672189002982, Initial Loss: 0.04543672189002982, Boundary Loss: 4.0315641286170484e-25, PDE Loss: 2.3279980496744784e-25\n",
      "Epoch [400/3000], Total Loss: 0.04543672189004982, Initial Loss: 0.04543672189004982, Boundary Loss: 4.0312722500821166e-25, PDE Loss: 2.3279477597917706e-25\n",
      "Epoch [500/3000], Total Loss: 0.045436721890169555, Initial Loss: 0.045436721890169555, Boundary Loss: 4.030946351920647e-25, PDE Loss: 2.3278839113622543e-25\n",
      "Epoch [600/3000], Total Loss: 0.06832947432269759, Initial Loss: 0.06832947432269759, Boundary Loss: 2.2064119044288954e-25, PDE Loss: 4.7495121083964475e-26\n",
      "Epoch [700/3000], Total Loss: 0.045436940409294656, Initial Loss: 0.045436940409294656, Boundary Loss: 2.0475461649548304e-25, PDE Loss: 1.1797402511628587e-25\n",
      "Epoch [800/3000], Total Loss: 0.04543672190677124, Initial Loss: 0.04543672190677124, Boundary Loss: 2.0413434995684973e-25, PDE Loss: 1.1790583795179083e-25\n",
      "Epoch [900/3000], Total Loss: 0.04543672189003639, Initial Loss: 0.04543672189003639, Boundary Loss: 2.0411697036503158e-25, PDE Loss: 1.1790483954970766e-25\n",
      "Epoch [1000/3000], Total Loss: 0.061542419192568525, Initial Loss: 0.061542419192568525, Boundary Loss: 4.8062533941947976e-26, PDE Loss: 1.2568381542501953e-26\n",
      "Epoch [1100/3000], Total Loss: 0.04543689119726678, Initial Loss: 0.04543689119726678, Boundary Loss: 4.8898267359783506e-26, PDE Loss: 2.8307410767240923e-26\n",
      "Epoch [1200/3000], Total Loss: 0.04543672189560599, Initial Loss: 0.04543672189560599, Boundary Loss: 4.887376028642717e-26, PDE Loss: 2.8232647707543766e-26\n",
      "Epoch [1300/3000], Total Loss: 0.04543672189001113, Initial Loss: 0.04543672189001113, Boundary Loss: 4.887382807916121e-26, PDE Loss: 2.8233032893532644e-26\n",
      "Epoch [1400/3000], Total Loss: 0.04543672189001113, Initial Loss: 0.04543672189001113, Boundary Loss: 4.887391744231063e-26, PDE Loss: 2.8233094523290864e-26\n",
      "Epoch [1500/3000], Total Loss: 0.04543672189001113, Initial Loss: 0.04543672189001113, Boundary Loss: 4.8873929768262274e-26, PDE Loss: 2.8233097604778775e-26\n",
      "Epoch [1600/3000], Total Loss: 0.04543672189001113, Initial Loss: 0.04543672189001113, Boundary Loss: 4.88738249976733e-26, PDE Loss: 2.8233032893532644e-26\n",
      "Epoch [1700/3000], Total Loss: 0.04543672189001113, Initial Loss: 0.04543672189001113, Boundary Loss: 4.887394517570183e-26, PDE Loss: 2.823310684924251e-26\n",
      "Epoch [1800/3000], Total Loss: 0.04543672189001113, Initial Loss: 0.04543672189001113, Boundary Loss: 4.8873994479508405e-26, PDE Loss: 2.8233128419657885e-26\n",
      "Epoch [1900/3000], Total Loss: 0.04543672189001113, Initial Loss: 0.04543672189001113, Boundary Loss: 4.887400680546005e-26, PDE Loss: 2.823313766412162e-26\n",
      "Epoch [2000/3000], Total Loss: 0.04543672189001113, Initial Loss: 0.04543672189001113, Boundary Loss: 4.8873994479508405e-26, PDE Loss: 2.8233128419657885e-26\n",
      "Epoch [2100/3000], Total Loss: 0.04543672189001113, Initial Loss: 0.04543672189001113, Boundary Loss: 4.8873994479508405e-26, PDE Loss: 2.8233128419657885e-26\n",
      "Epoch [2200/3000], Total Loss: 0.04543672189001113, Initial Loss: 0.04543672189001113, Boundary Loss: 4.8873997560996316e-26, PDE Loss: 2.823313458263371e-26\n",
      "Epoch [2300/3000], Total Loss: 0.04543672189001113, Initial Loss: 0.04543672189001113, Boundary Loss: 4.887400680546005e-26, PDE Loss: 2.823313766412162e-26\n",
      "Epoch [2400/3000], Total Loss: 0.04543672189001113, Initial Loss: 0.04543672189001113, Boundary Loss: 4.887400680546005e-26, PDE Loss: 2.823313766412162e-26\n",
      "Epoch [2500/3000], Total Loss: 0.04543672189001113, Initial Loss: 0.04543672189001113, Boundary Loss: 4.887400680546005e-26, PDE Loss: 2.823313766412162e-26\n",
      "Epoch [2600/3000], Total Loss: 0.045436721890012445, Initial Loss: 0.045436721890012445, Boundary Loss: 4.8873868138504053e-26, PDE Loss: 2.82330483009722e-26\n",
      "Epoch [2700/3000], Total Loss: 0.04543672189001113, Initial Loss: 0.04543672189001113, Boundary Loss: 4.887404070182707e-26, PDE Loss: 2.823316539751282e-26\n",
      "Epoch [2800/3000], Total Loss: 0.045436721890012445, Initial Loss: 0.045436721890012445, Boundary Loss: 4.887388662743152e-26, PDE Loss: 2.823306062692384e-26\n",
      "Epoch [2900/3000], Total Loss: 0.04543672189001113, Initial Loss: 0.04543672189001113, Boundary Loss: 4.887403762033916e-26, PDE Loss: 2.823317772346446e-26\n",
      "Epoch [2999/3000], Total Loss: 0.04543672189001113, Initial Loss: 0.04543672189001113, Boundary Loss: 4.887404378331498e-26, PDE Loss: 2.823317156048864e-26\n"
     ]
    }
   ],
   "source": [
    "model = PINN().to(device) # Create PINN model\n",
    "optimizer = optim.Adam(model.parameters(), lr=0.05)  # Define the Adam optimizer\n",
    "# Define the training parameters\n",
    "num_epochs = 3000\n",
    "x_values = np.linspace(0, 1, N+1)\n",
    "t_values = np.linspace(0, tmax, M+1)\n",
    "X, T = np.meshgrid(x_values, t_values)\n",
    "X = torch.tensor(X, dtype=torch.float32, requires_grad=True).to(device)\n",
    "T = torch.tensor(T, dtype=torch.float32, requires_grad=True).to(device)\n",
    "initial_condition = 0.5+0.3*torch.cos(2*np.pi * torch.from_numpy(x_values)).to(device)  #define IC\n",
    "\n",
    "# Training loop\n",
    "for epoch in range(num_epochs):\n",
    "    if epoch>1000:\n",
    "        for g in optimizer.param_groups:\n",
    "            g['lr'] = 0.001\n",
    "    if epoch>2000:\n",
    "        for g in optimizer.param_groups:\n",
    "            g['lr'] = 0.0005\n",
    "\n",
    "    # Zero the gradients\n",
    "    optimizer.zero_grad()\n",
    "\n",
    "    # Forward pass to compute predictions\n",
    "    predictions = model(torch.cat((X.reshape(-1, 1), T.reshape(-1, 1)), dim=1))\n",
    "\n",
    "    # Calculate loss for initial condition\n",
    "    initial_loss = torch.mean((predictions[:(N+1)] - initial_condition.reshape(-1, 1))**2) #initial loss is correctly computed\n",
    "\n",
    "    # Calculate loss for the differential equation\n",
    "    pde_loss_val = pde_loss(predictions, X, T)\n",
    "    \n",
    "    boundary_loss_val = boundary_loss(predictions, X, T)\n",
    "    \n",
    "    # Total loss\n",
    "    loss = initial_loss     +  0.01*boundary_loss_val + 0.01*pde_loss_val\n",
    "\n",
    "    # Backpropagation for the total loss\n",
    "    loss.backward()\n",
    "\n",
    "    # Update weights\n",
    "    optimizer.step()\n",
    "\n",
    "    # Print loss at every 100 epochs\n",
    "    if epoch % 100 == 0:\n",
    "        print(f'Epoch [{epoch}/{num_epochs}], Total Loss: {loss.item()}, Initial Loss: {initial_loss.item()}, Boundary Loss: {boundary_loss_val.item()}, PDE Loss: {pde_loss_val.item()}')\n",
    "print(f'Epoch [{epoch}/{num_epochs}], Total Loss: {loss.item()}, Initial Loss: {initial_loss.item()}, Boundary Loss: {boundary_loss_val.item()}, PDE Loss: {pde_loss_val.item()}')"
   ]
  },
  {
   "cell_type": "code",
   "execution_count": 82,
   "id": "2e0f8983",
   "metadata": {},
   "outputs": [
    {
     "data": {
      "image/png": "[encoded data removed]",
      "text/plain": [
       "<Figure size 640x480 with 1 Axes>"
      ]
     },
     "metadata": {},
     "output_type": "display_data"
    }
   ],
   "source": [
    "# Specify the time steps at which you want to plot\n",
    "time_steps = [0.0,  0.22, 0.27,0.48,0.49, 0.5]\n",
    "\n",
    "# Create a figure and axis\n",
    "fig, ax = plt.subplots()\n",
    "\n",
    "# Iterate through the specified time steps and plot the data\n",
    "for t in time_steps:\n",
    "    # Find the index corresponding to the closest time step in the prediction array\n",
    "    tstep = int(t / dt)  # Assuming you have a time step size 'dt'\n",
    "\n",
    "    # Plot the data at the current time step with label\n",
    "    ax.plot(x_values, predictions[tstep*N:tstep*N+(N+1)].cpu().detach().numpy(), label=f't = {t:.2f}')\n",
    "\n",
    "# Add labels, legend, and other plot details\n",
    "ax.set_xlabel('x')\n",
    "ax.set_ylabel('u')\n",
    "ax.set_title('Approximate Solutions')\n",
    "ax.legend()\n",
    "\n",
    "# Show the plot\n",
    "plt.show()"
   ]
  },
  {
   "cell_type": "code",
   "execution_count": null,
   "id": "69551347",
   "metadata": {},
   "outputs": [],
   "source": []
  }
 ],
 "metadata": {
  "kernelspec": {
   "display_name": "Python 3 (ipykernel)",
   "language": "python",
   "name": "python3"
  },
  "language_info": {
   "codemirror_mode": {
    "name": "ipython",
    "version": 3
   },
   "file_extension": ".py",
   "mimetype": "text/x-python",
   "name": "python",
   "nbconvert_exporter": "python",
   "pygments_lexer": "ipython3",
   "version": "3.11.4"
  }
 },
 "nbformat": 4,
 "nbformat_minor": 5
}
